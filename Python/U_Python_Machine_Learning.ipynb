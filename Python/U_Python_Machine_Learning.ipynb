{
  "nbformat": 4,
  "nbformat_minor": 0,
  "metadata": {
    "colab": {
      "provenance": [],
      "authorship_tag": "ABX9TyOQJx069peYx83TpdXJLNDP"
    },
    "kernelspec": {
      "name": "python3",
      "display_name": "Python 3"
    },
    "language_info": {
      "name": "python"
    }
  },
  "cells": [
    {
      "cell_type": "markdown",
      "source": [
        "\n",
        "\n",
        "---\n",
        "\n",
        "\n",
        "\n",
        "---\n",
        "\n",
        "\n",
        "## Bibliografía recomendada: \n",
        "\n",
        "\n",
        "---\n",
        "\n",
        "\n",
        "* Deep Learning with Python, Francois Chollet\n",
        "* Practical Machine Learning with Python, Dinpanjan Skarkar a.o.\n",
        "* Python Machine Learning, Sebastian Raschka"
      ],
      "metadata": {
        "id": "2l6QT1B9AXkX"
      }
    },
    {
      "cell_type": "markdown",
      "source": [
        "# Introducción\n",
        "\n",
        "\n",
        "---\n",
        "\n",
        "\n",
        "* Python: Python es un lenguaje de programación ampliamente utilizado en las aplicaciones web, el desarrollo de software, la ciencia de datos y el machine learning (ML). Los desarrolladores utilizan Python porque es eficiente y fácil de aprender, además de que se puede ejecutar en muchas plataformas diferentes. El software Python se puede descargar gratis, se integra bien a todos los tipos de sistemas y aumenta la velocidad del desarrollo.\n",
        "\n",
        "\n",
        "* Google Colab: Colaboratory, o \"Colab\" para abreviar, es un producto de Google Research. Permite a cualquier usuario escribir y ejecutar código arbitrario de Python en el navegador. Es especialmente adecuado para tareas de aprendizaje automático, análisis de datos y educación. Desde un punto de vista más técnico, Colab es un servicio de cuaderno alojado de Jupyter que no requiere configuración y que ofrece acceso sin coste adicional a recursos informáticos, como GPUs.\n"
      ],
      "metadata": {
        "id": "n_GRhhO4_5-z"
      }
    },
    {
      "cell_type": "markdown",
      "source": [
        "# Introducción a Python\n",
        "\n",
        "\n",
        "---\n",
        "\n"
      ],
      "metadata": {
        "id": "vUrv6UbS_8vu"
      }
    },
    {
      "cell_type": "markdown",
      "source": [
        "\n",
        "*  Variables (Númericas, String, Boolean)\n",
        "*  Estructuras\n"
      ],
      "metadata": {
        "id": "Q7qL5GvPJaTg"
      }
    },
    {
      "cell_type": "markdown",
      "source": [
        "*  IF ELSE"
      ],
      "metadata": {
        "id": "xsWR8cy0JpmE"
      }
    },
    {
      "cell_type": "code",
      "source": [
        "#Ejemplo\n",
        "x = 10\n",
        "if x > 10:\n",
        "    print(\" x es mayor que 10!\")\n",
        "elif x < 10:\n",
        "      print(\"x es menor que 10!\")\n",
        "elif x > 20 :\n",
        "      print(\"x es mayor que 20!\")\n",
        "else:\n",
        "     print(\"x es igual a 10\")"
      ],
      "metadata": {
        "colab": {
          "base_uri": "https://localhost:8080/"
        },
        "id": "uhqc1v-MJp_7",
        "outputId": "a5a2b50f-67ed-4cb5-8f72-2235d01a1697"
      },
      "execution_count": 4,
      "outputs": [
        {
          "output_type": "stream",
          "name": "stdout",
          "text": [
            "x es igual a 10\n"
          ]
        }
      ]
    },
    {
      "cell_type": "markdown",
      "source": [
        "*  Ciclo WHILE\n"
      ],
      "metadata": {
        "id": "hqPXTf6JJbWZ"
      }
    },
    {
      "cell_type": "code",
      "execution_count": 1,
      "metadata": {
        "colab": {
          "base_uri": "https://localhost:8080/"
        },
        "id": "IBqJoVB1-uFI",
        "outputId": "eef1fda0-5399-418c-f429-db3b3f55d8ed"
      },
      "outputs": [
        {
          "output_type": "stream",
          "name": "stdout",
          "text": [
            "Adivina el valor que se ha escogido entre 1 y 10\n",
            "Prueba tu suerte, introduce un número... 2\n",
            "No lo adivinaste, prueba otra vez \n",
            "\n",
            "Prueba tu suerte, introduce un número... 5\n",
            "Excelente, adivinaste! El número era 5\n"
          ]
        }
      ],
      "source": [
        "#Ejemplo \n",
        "import random \n",
        "print('Adivina el valor que se ha escogido entre 1 y 10')\n",
        "numero = random.randint(1,10)\n",
        "while(True):\n",
        "  valor = int(input('Prueba tu suerte, introduce un número... '))\n",
        "  if valor != numero:\n",
        "    print('No lo adivinaste, prueba otra vez \\n')\n",
        "  else:\n",
        "    print('Excelente, adivinaste! El número era {}'.format(numero))\n",
        "    break"
      ]
    },
    {
      "cell_type": "markdown",
      "source": [
        "*  Ciclo FOR\n"
      ],
      "metadata": {
        "id": "i4jO7x-WJemU"
      }
    },
    {
      "cell_type": "code",
      "source": [
        "#Crear listas. Método 1\n",
        "numeros = []\n",
        "for i in range(0,11):\n",
        "  numeros.append(i**2)\n",
        "display(numeros)\n",
        "\n",
        "#Crear listas. Método 2\n",
        "numeros = [i**2 for i in range(11)]\n",
        "display(numeros)"
      ],
      "metadata": {
        "colab": {
          "base_uri": "https://localhost:8080/",
          "height": 53
        },
        "id": "P6jyadGCJgZ1",
        "outputId": "7cb04ee5-841b-46aa-a243-b84da255a8bc"
      },
      "execution_count": 3,
      "outputs": [
        {
          "output_type": "display_data",
          "data": {
            "text/plain": [
              "[0, 1, 4, 9, 16, 25, 36, 49, 64, 81, 100]"
            ]
          },
          "metadata": {}
        },
        {
          "output_type": "display_data",
          "data": {
            "text/plain": [
              "[0, 1, 4, 9, 16, 25, 36, 49, 64, 81, 100]"
            ]
          },
          "metadata": {}
        }
      ]
    },
    {
      "cell_type": "markdown",
      "source": [
        "*  Funciones\n"
      ],
      "metadata": {
        "id": "qGSEvCNYJg4v"
      }
    },
    {
      "cell_type": "code",
      "source": [],
      "metadata": {
        "id": "HdknK2B6JiFd"
      },
      "execution_count": null,
      "outputs": []
    },
    {
      "cell_type": "markdown",
      "source": [
        "*  POO"
      ],
      "metadata": {
        "id": "XW1frtNYJibU"
      }
    },
    {
      "cell_type": "code",
      "source": [],
      "metadata": {
        "id": "uWxOZl9EALs2"
      },
      "execution_count": null,
      "outputs": []
    },
    {
      "cell_type": "markdown",
      "source": [
        "# Procesamiento y visualización de Datos\n",
        "\n",
        "\n",
        "---\n",
        "\n"
      ],
      "metadata": {
        "id": "O9OAUdAQ__ap"
      }
    },
    {
      "cell_type": "markdown",
      "source": [
        "# Machine Learning\n",
        "\n",
        "\n",
        "---\n",
        "\n"
      ],
      "metadata": {
        "id": "HHYriTU0ACdV"
      }
    },
    {
      "cell_type": "markdown",
      "source": [
        "# Deep Learning\n",
        "\n",
        "\n",
        "---\n",
        "\n"
      ],
      "metadata": {
        "id": "AP8A5TCdAEx7"
      }
    },
    {
      "cell_type": "markdown",
      "source": [
        "# Proyecto Final\n",
        "\n",
        "\n",
        "---\n",
        "\n"
      ],
      "metadata": {
        "id": "9K3eCi6FAHiU"
      }
    },
    {
      "cell_type": "code",
      "source": [],
      "metadata": {
        "id": "AVFDh-E4NK1i"
      },
      "execution_count": null,
      "outputs": []
    },
    {
      "cell_type": "code",
      "source": [],
      "metadata": {
        "id": "SQoEKmFpNK9L"
      },
      "execution_count": null,
      "outputs": []
    },
    {
      "cell_type": "markdown",
      "source": [
        "\n",
        "\n",
        "---\n",
        "\n",
        "\n",
        "\n",
        "---\n",
        "\n"
      ],
      "metadata": {
        "id": "pQpXOqKlNJ5-"
      }
    }
  ]
}